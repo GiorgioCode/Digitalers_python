{
 "cells": [
  {
   "attachments": {},
   "cell_type": "markdown",
   "metadata": {},
   "source": [
    "# Ciclo WHILE\n",
    "---"
   ]
  },
  {
   "attachments": {},
   "cell_type": "markdown",
   "metadata": {},
   "source": [
    "El ciclo while en Python es una estructura de control que permite repetir un bloque de código mientras se cumpla una condición específica.\n",
    "\n",
    "1. Se evalúa la condición. Si la condición es verdadera (evalúa a True), se ejecuta el bloque de código dentro del ciclo. Si la condición es falsa (evalúa a False), se omite el bloque de código y se continúa con la ejecución del programa después del ciclo while.\n",
    "\n",
    "2. Una vez que se ejecuta el bloque de código, la condición se vuelve a evaluar. Si la condición sigue siendo verdadera, el bloque de código se ejecuta nuevamente. Este proceso se repite hasta que la condición se vuelva falsa.\n",
    "\n",
    "Es importante tener cuidado al usar el ciclo while para evitar caer en un bucle infinito. Si la condición nunca se vuelve falsa, el ciclo seguirá ejecutándose indefinidamente. Para evitar esto, asegúrate de que la condición se actualice o cambie dentro del ciclo, de lo contrario, podría causar un bucle infinito.\n",
    "\n",
    "---\n",
    "\n"
   ]
  },
  {
   "cell_type": "code",
   "execution_count": 1,
   "metadata": {},
   "outputs": [
    {
     "name": "stdout",
     "output_type": "stream",
     "text": [
      "Esto en el numero: 11!!!\n",
      "Esto en el numero: 10!!!\n",
      "Esto en el numero: 9!!!\n",
      "Esto en el numero: 8!!!\n",
      "Esto en el numero: 7!!!\n",
      "Esto en el numero: 6!!!\n",
      "Esto en el numero: 5!!!\n"
     ]
    }
   ],
   "source": [
    "#Clase pasada -- CONT- FLUJO --- DECISIÓN\n",
    "#CLASE de hoy -- CONT - FLUJO --- REPETiCIÓn\n",
    "\n",
    "numero = 11\n",
    "\n",
    "while (numero > 4):   #Mientras el numero sea mayor que 4--- hago algo\n",
    "\n",
    "    print(f\"Esto en el numero: {numero}!!!\")\n",
    "    #Es fundamental .. modificar la cond\n",
    "    numero = numero -1   #numero -= 1"
   ]
  },
  {
   "cell_type": "code",
   "execution_count": 2,
   "metadata": {},
   "outputs": [
    {
     "name": "stdout",
     "output_type": "stream",
     "text": [
      "N vale 0\n",
      "N vale 1\n",
      "N vale 2\n",
      "N vale 3\n",
      "N vale 4\n"
     ]
    }
   ],
   "source": [
    "n = 0\n",
    "while n < 5:\n",
    "\n",
    "  \n",
    "  print(f\"N vale {n}\")\n",
    "  n += 1\n"
   ]
  },
  {
   "cell_type": "code",
   "execution_count": 3,
   "metadata": {},
   "outputs": [
    {
     "name": "stdout",
     "output_type": "stream",
     "text": [
      "Tu numero vale: -1\n",
      "\n",
      "Tu numero vale: 4\n",
      "\n",
      "Tu numero vale: 4\n",
      "\n",
      "Tu numero vale: 5\n",
      "\n",
      "Has salido con una suma de: 13\n"
     ]
    }
   ],
   "source": [
    "numero = -1\n",
    "\n",
    "contador = 0\n",
    "\n",
    "while (numero != 0):\n",
    "\n",
    "  print(f\"Tu numero vale: {numero}\\n\")\n",
    "  numero = int (input(\"Ingresar otro numero, 0 para salir\\n\"))\n",
    "\n",
    "  contador = contador + numero\n",
    "\n",
    "else:\n",
    "\n",
    "  print(f\"Has salido con una suma de: {contador}\")\n",
    "\n",
    "\n",
    "\n"
   ]
  },
  {
   "cell_type": "code",
   "execution_count": 4,
   "metadata": {},
   "outputs": [
    {
     "name": "stdout",
     "output_type": "stream",
     "text": [
      "n vale  4\n",
      "n vale  3\n",
      "ahora que n vale 2 salimos\n"
     ]
    }
   ],
   "source": [
    "n = 5\n",
    "while n < 10:\n",
    "    n -= 1\n",
    "    \n",
    "    if n == 2:\n",
    "      print(\"ahora que n vale 2 salimos\")\n",
    "      break\n",
    "      \n",
    "    print(\"n vale \", n)"
   ]
  },
  {
   "cell_type": "code",
   "execution_count": 5,
   "metadata": {},
   "outputs": [
    {
     "name": "stdout",
     "output_type": "stream",
     "text": [
      "n vale  1\n",
      "Continuamos con la siguiente iteración\n",
      "n vale  3\n",
      "n vale  4\n",
      "n vale  5\n",
      "n vale  6\n",
      "n vale  7\n",
      "n vale  8\n",
      "n vale  9\n",
      "n vale  10\n"
     ]
    }
   ],
   "source": [
    "n = 0\n",
    "\n",
    "while n < 10:\n",
    "  n += 1\n",
    "  if n == 2:\n",
    "    print(\"Continuamos con la siguiente iteración\")\n",
    "    continue  #termina o ignora esa rep...!!!\n",
    "    #Continuar con la siguiente iteración \n",
    "\n",
    "  print(\"n vale \", n)"
   ]
  },
  {
   "cell_type": "code",
   "execution_count": 6,
   "metadata": {},
   "outputs": [
    {
     "name": "stdout",
     "output_type": "stream",
     "text": [
      "n vale  1\n",
      "n vale  2\n",
      "n vale  3\n",
      "n vale  4\n",
      "n vale  5\n",
      "n vale  6\n",
      "n vale  7\n",
      "n vale  8\n",
      "n vale  9\n",
      "n vale  10\n"
     ]
    }
   ],
   "source": [
    "n = 0\n",
    "\n",
    "while n < 10:\n",
    "  n += 1\n",
    "  if n == 2:\n",
    "    pass\n",
    "    \n",
    "  print(\"n vale \", n)\n"
   ]
  }
 ],
 "metadata": {
  "kernelspec": {
   "display_name": "base",
   "language": "python",
   "name": "python3"
  },
  "language_info": {
   "codemirror_mode": {
    "name": "ipython",
    "version": 3
   },
   "file_extension": ".py",
   "mimetype": "text/x-python",
   "name": "python",
   "nbconvert_exporter": "python",
   "pygments_lexer": "ipython3",
   "version": "3.9.13"
  },
  "orig_nbformat": 4
 },
 "nbformat": 4,
 "nbformat_minor": 2
}
