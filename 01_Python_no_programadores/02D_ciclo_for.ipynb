{
 "cells": [
  {
   "attachments": {},
   "cell_type": "markdown",
   "metadata": {},
   "source": [
    "# Ciclo FOR\n",
    "---"
   ]
  },
  {
   "attachments": {},
   "cell_type": "markdown",
   "metadata": {},
   "source": [
    "El ciclo for en Python es una estructura de control que permite iterar sobre una secuencia de elementos, como una lista, una cadena de texto, una tupla o cualquier objeto iterable. \n",
    "A diferencia del ciclo while, el ciclo for itera automáticamente sobre los elementos de la secuencia sin necesidad de verificar una condición.\n",
    "\n",
    "---"
   ]
  },
  {
   "cell_type": "code",
   "execution_count": 1,
   "metadata": {},
   "outputs": [
    {
     "name": "stdout",
     "output_type": "stream",
     "text": [
      "Soy un item de la lista y valgo: 1\n",
      "Soy un item de la lista y valgo: 21\n",
      "Soy un item de la lista y valgo: 30\n",
      "Soy un item de la lista y valgo: -4\n",
      "Soy un item de la lista y valgo: 5\n"
     ]
    }
   ],
   "source": [
    "lista = [1,21,30,-4,5]\n",
    "\n",
    "#Para cada \"valor\" en la lista hacer:\n",
    "for x in lista:\n",
    "\n",
    "\t\tprint(f\"Soy un item de la lista y valgo: {x}\")"
   ]
  },
  {
   "cell_type": "code",
   "execution_count": 2,
   "metadata": {},
   "outputs": [
    {
     "name": "stdout",
     "output_type": "stream",
     "text": [
      "Soy un valor de la lista y valgo 0\n",
      "Aplique +=  0\n",
      "Soy un valor de la lista y valgo 1\n",
      "Aplique +=  5\n",
      "Soy un valor de la lista y valgo 2\n",
      "Aplique +=  10\n",
      "Soy un valor de la lista y valgo 3\n",
      "Aplique +=  15\n",
      "Soy un valor de la lista y valgo 4\n",
      "Aplique +=  20\n",
      "Soy un valor de la lista y valgo 5\n",
      "Aplique +=  25\n",
      "Soy un valor de la lista y valgo 6\n",
      "Aplique +=  30\n",
      "Soy un valor de la lista y valgo 7\n",
      "Aplique +=  35\n",
      "Soy un valor de la lista y valgo 8\n",
      "Aplique +=  40\n",
      "Soy un valor de la lista y valgo 9\n",
      "Aplique +=  45\n",
      "Soy un valor de la lista y valgo 10\n",
      "Aplique +=  50\n"
     ]
    }
   ],
   "source": [
    "lista = [0,1,2,3,4,5,6,7,8,9,10]\n",
    "\n",
    "for x in lista:\n",
    "  print(f\"Soy un valor de la lista y valgo {x}\")\n",
    "\n",
    "  x *= 5\n",
    "  print(f\"Aplique +=  {x}\")\n",
    "\t\t"
   ]
  },
  {
   "cell_type": "code",
   "execution_count": 4,
   "metadata": {},
   "outputs": [
    {
     "name": "stdout",
     "output_type": "stream",
     "text": [
      "INDICE: 0\n",
      "NUMERO: 66\n",
      "\n",
      "\n",
      "------> 66\n",
      "\n",
      "----------------\n",
      "INDICE: 1\n",
      "NUMERO: -3\n",
      "\n",
      "\n",
      "------> -3\n",
      "\n",
      "----------------\n",
      "INDICE: 2\n",
      "NUMERO: 35\n",
      "\n",
      "\n",
      "------> 35\n",
      "\n",
      "----------------\n",
      "INDICE: 3\n",
      "NUMERO: 96\n",
      "\n",
      "\n",
      "------> 96\n",
      "\n",
      "----------------\n"
     ]
    }
   ],
   "source": [
    "lista = [66,-3,35,96]\n",
    "#---Pos ,   elem\n",
    "for indice, numero in enumerate(lista):\n",
    "\n",
    "  print(f\"INDICE: {indice}\")\n",
    "  print(f\"NUMERO: {numero}\\n\\n\")\n",
    "\n",
    "  print(f\"------> {lista[indice]}\\n\\n----------------\")\n",
    "  "
   ]
  },
  {
   "cell_type": "code",
   "execution_count": 5,
   "metadata": {},
   "outputs": [
    {
     "name": "stdout",
     "output_type": "stream",
     "text": [
      "----------> N\n",
      "----------> i\n",
      "----------> c\n",
      "----------> o\n",
      "----------> l\n",
      "----------> á\n",
      "----------> s\n",
      "---------->  \n",
      "----------> I\n",
      "----------> g\n",
      "----------> n\n",
      "----------> a\n",
      "----------> c\n",
      "----------> i\n",
      "----------> o\n"
     ]
    }
   ],
   "source": [
    "nombreDelProfe = \"Nicolás Ignacio\"\n",
    "\n",
    "for letra in nombreDelProfe:\n",
    "\n",
    "  print(f\"----------> {letra}\")"
   ]
  },
  {
   "cell_type": "code",
   "execution_count": 6,
   "metadata": {},
   "outputs": [
    {
     "name": "stdout",
     "output_type": "stream",
     "text": [
      "----> 0\n",
      "----> 1\n",
      "----> 2\n",
      "----> 3\n",
      "----> 4\n",
      "----> 5\n",
      "----> 6\n",
      "----> 7\n",
      "----> 8\n",
      "----> 9\n"
     ]
    }
   ],
   "source": [
    "\n",
    "for numero in range(10):  #desde 0 hasta  < \"10\"\n",
    " \n",
    "  print(f\"----> {numero}\")"
   ]
  },
  {
   "cell_type": "code",
   "execution_count": 7,
   "metadata": {},
   "outputs": [
    {
     "name": "stdout",
     "output_type": "stream",
     "text": [
      "----> 2\n",
      "----> 3\n",
      "----> 4\n",
      "----> 5\n",
      "----> 6\n",
      "----> 7\n",
      "----> 8\n",
      "----> 9\n"
     ]
    }
   ],
   "source": [
    "for numero in range(2,10):  #desde 2 hasta  < \"10\"\n",
    "\n",
    "  print(f\"----> {numero}\")"
   ]
  },
  {
   "cell_type": "code",
   "execution_count": 8,
   "metadata": {},
   "outputs": [
    {
     "name": "stdout",
     "output_type": "stream",
     "text": [
      "----> 2\n",
      "----> 5\n",
      "----> 8\n"
     ]
    }
   ],
   "source": [
    "for numero in range(2,10,3):  #arranca en 2, termina en 9... va de 3\n",
    "\n",
    "  print(f\"----> {numero}\")"
   ]
  },
  {
   "cell_type": "code",
   "execution_count": 9,
   "metadata": {},
   "outputs": [
    {
     "name": "stdout",
     "output_type": "stream",
     "text": [
      "----> 3\n",
      "----> 9\n",
      "----> 9\n",
      "----> 1\n",
      "----> 5\n",
      "----> 5\n",
      "----> 5\n"
     ]
    }
   ],
   "source": [
    "lista_notas_natalia = [2,3,9,9,1,5,5,5,10]   #3---9---9\n",
    "\n",
    "for nota in range(1,len(lista_notas_natalia)-1):\n",
    "\n",
    "  print(f\"----> {lista_notas_natalia[nota]}\")"
   ]
  }
 ],
 "metadata": {
  "kernelspec": {
   "display_name": "base",
   "language": "python",
   "name": "python3"
  },
  "language_info": {
   "codemirror_mode": {
    "name": "ipython",
    "version": 3
   },
   "file_extension": ".py",
   "mimetype": "text/x-python",
   "name": "python",
   "nbconvert_exporter": "python",
   "pygments_lexer": "ipython3",
   "version": "3.9.13"
  },
  "orig_nbformat": 4
 },
 "nbformat": 4,
 "nbformat_minor": 2
}
