{
 "cells": [
  {
   "cell_type": "markdown",
   "source": [
    "# Control de flujo de decisión"
   ],
   "metadata": {
    "collapsed": false
   }
  },
  {
   "cell_type": "markdown",
   "source": [
    "# if"
   ],
   "metadata": {
    "collapsed": false
   }
  },
  {
   "cell_type": "code",
   "execution_count": null,
   "outputs": [
    {
     "name": "stdout",
     "output_type": "stream",
     "text": [
      "¡La condición es verdadera!\n"
     ]
    }
   ],
   "source": [
    "#Ejemplo 1\n",
    "x = 10\n",
    "\n",
    "if x > 4:\n",
    "  print(\"¡La condición es verdadera!\")"
   ],
   "metadata": {
    "collapsed": false
   }
  },
  {
   "cell_type": "code",
   "execution_count": null,
   "outputs": [
    {
     "name": "stdout",
     "output_type": "stream",
     "text": [
      "Tu numero  es par :)\n",
      "Tu numero es divisible por 3 :)\n"
     ]
    }
   ],
   "source": [
    "#Ejemplo 2\n",
    "numero = 6\n",
    "\n",
    "if (  numero%2 == 0 ):\n",
    "  print(\"Tu numero  es par :)\")\n",
    "\n",
    "if ( numero%3 == 0):\n",
    "  print(\"Tu numero es divisible por 3 :)\")\n",
    "\n",
    "if (numero > 10):\n",
    "  print(\"Tu numero es muy grande :( \")"
   ],
   "metadata": {
    "collapsed": false
   }
  },
  {
   "cell_type": "code",
   "execution_count": null,
   "outputs": [
    {
     "name": "stdout",
     "output_type": "stream",
     "text": [
      "Mayor que 5 y menos que 15\n"
     ]
    }
   ],
   "source": [
    "#Ejemplo 3\n",
    "a = 10\n",
    "if a > 5 and a < 15:\n",
    "    print(\"Mayor que 5 y menos que 15\")"
   ],
   "metadata": {
    "collapsed": false
   }
  },
  {
   "cell_type": "markdown",
   "source": [
    "# Else"
   ],
   "metadata": {
    "collapsed": false
   }
  },
  {
   "cell_type": "code",
   "execution_count": null,
   "outputs": [
    {
     "name": "stdout",
     "output_type": "stream",
     "text": [
      "Es 10\n"
     ]
    }
   ],
   "source": [
    "#Ejemplo 1\n",
    "x = 10\n",
    "if x == 10:\n",
    "    print(\"Es 10\")\n",
    "else:\n",
    "    print(\"No es 10\")"
   ],
   "metadata": {
    "collapsed": false
   }
  },
  {
   "cell_type": "code",
   "execution_count": null,
   "outputs": [
    {
     "name": "stdout",
     "output_type": "stream",
     "text": [
      " b es mayor que a\n"
     ]
    }
   ],
   "source": [
    "#Ejemplo 2\n",
    "a = 5\n",
    "b = 10\n",
    "\n",
    "if a < b:\n",
    "    print(\" b es mayor que a\")\n",
    "else:\n",
    "    print(\"a es mayor que b\")"
   ],
   "metadata": {
    "collapsed": false
   }
  },
  {
   "cell_type": "markdown",
   "source": [
    "# Elif"
   ],
   "metadata": {
    "collapsed": false
   }
  },
  {
   "cell_type": "code",
   "execution_count": null,
   "outputs": [
    {
     "name": "stdout",
     "output_type": "stream",
     "text": [
      "Es 5\n"
     ]
    }
   ],
   "source": [
    "#Ejemplo 1\n",
    "x = 5\n",
    "if x == 5:\n",
    "    print(\"Es 5\")\n",
    "elif x == 6:\n",
    "    print(\"Es 6\")\n",
    "elif x == 7:\n",
    "    print(\"Es 7\")"
   ],
   "metadata": {
    "collapsed": false
   }
  },
  {
   "cell_type": "code",
   "execution_count": null,
   "outputs": [
    {
     "name": "stdout",
     "output_type": "stream",
     "text": [
      "Es 5\n"
     ]
    }
   ],
   "source": [
    "#Ejemplo 2\n",
    "x = 5\n",
    "if x == 5:\n",
    "    print(\"Es 5\")\n",
    "elif x == 6:\n",
    "    print(\"Es 6\")\n",
    "elif x == 7:\n",
    "    print(\"Es 7\")\n",
    "else:\n",
    "    print(\"Es otro\")"
   ],
   "metadata": {
    "collapsed": false
   }
  },
  {
   "cell_type": "code",
   "execution_count": null,
   "outputs": [
    {
     "name": "stdout",
     "output_type": "stream",
     "text": [
      "Hola! ¿Cómo estás?\n"
     ]
    }
   ],
   "source": [
    "#Mas ejemplos :)\n",
    "comando =  \"SALUDO\"\n",
    "\n",
    "if (comando == \"ENTRAR\"):\n",
    "\n",
    "    print(\"Bienvenido al sistema.\")\n",
    "\n",
    "elif (comando == \"SALUDO\"):\n",
    "\n",
    "    print(\"Hola! ¿Cómo estás?\")\n",
    "\n",
    "elif (comando == \"SALIR\"):\n",
    "    print(\"Saliendo del sistema.\")\n",
    "\n",
    "else:\n",
    "    print(\"No se reconoce el comando.\")"
   ],
   "metadata": {
    "collapsed": false
   }
  }
 ],
 "metadata": {
  "kernelspec": {
   "display_name": "Python 3",
   "language": "python",
   "name": "python3"
  },
  "language_info": {
   "codemirror_mode": {
    "name": "ipython",
    "version": 2
   },
   "file_extension": ".py",
   "mimetype": "text/x-python",
   "name": "python",
   "nbconvert_exporter": "python",
   "pygments_lexer": "ipython2",
   "version": "2.7.6"
  }
 },
 "nbformat": 4,
 "nbformat_minor": 0
}
